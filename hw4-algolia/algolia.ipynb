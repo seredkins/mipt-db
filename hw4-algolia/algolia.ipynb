{
 "cells": [
  {
   "cell_type": "code",
   "execution_count": 22,
   "metadata": {},
   "outputs": [
    {
     "name": "stdout",
     "output_type": "stream",
     "text": [
      "Dynex™ - USB Optical Mouse - Black/Gray for 5.99, link: http://www.bestbuy.com/site/dynex-usb-optical-mouse-black-gray/7654041.p?id=1218857084849&skuId=7654041&cmp=RMX&ky=2d3GfEmNIzjA0vkzveHdZEBgpPCyMnLTJ\n",
      "Dynex™ - USB Optical Mouse - Black for 7.99, link: http://www.bestbuy.com/site/dynex-usb-optical-mouse-black/7653088.p?id=1218857084837&skuId=7653088&cmp=RMX&ky=2d3GfEmNIzjA0vkzveHdZEBgpPCyMnLTJ\n",
      "Dynex™ - USB Keyboard for 9.99, link: http://www.bestbuy.com/site/dynex-usb-keyboard/7656049.p?id=1218857084843&skuId=7656049&cmp=RMX&ky=2d3GfEmNIzjA0vkzveHdZEBgpPCyMnLTJ\n",
      "Dynex™ - USB Wall Charger - Orchid for 9.99, link: http://www.bestbuy.com/site/dynex-usb-wall-charger-orchid/4155008.p?id=1219096726551&skuId=4155008&cmp=RMX&ky=2d3GfEmNIzjA0vkzveHdZEBgpPCyMnLTJ\n",
      "Dynex™ - USB Wall Charger - Blue for 9.99, link: http://www.bestbuy.com/site/dynex-usb-wall-charger-blue/4154018.p?id=1219096727059&skuId=4154018&cmp=RMX&ky=2d3GfEmNIzjA0vkzveHdZEBgpPCyMnLTJ\n"
     ]
    }
   ],
   "source": [
    "from algoliasearch.search_client import SearchClient\n",
    "client = SearchClient.create(\"\", \"\")\n",
    "index = client.init_index(\"miptdb\")\n",
    "\n",
    "res = index.search(\"usb\", {'attributesToRetrieve': ['name', 'url', 'salePrice']})['hits']\n",
    "res.sort(key=lambda x: x['salePrice'])\n",
    "for i in res[:5]:\n",
    "    print(f\"{i['name']} for {i['salePrice']}, link: {i['url']}\")"
   ]
  },
  {
   "cell_type": "code",
   "execution_count": 50,
   "metadata": {},
   "outputs": [
    {
     "name": "stdout",
     "output_type": "stream",
     "text": [
      "In-Law Suite w/Room to Spare :-) for 4.007333185232471, score: 89.0\n",
      "Beantown Basement By Brian (Private In-Law) for 4.07753744390572, score: 100.0\n",
      "Crystal Cove w/ Private Entrance in Central Sunset for 4.343805421853683, score: 98.0\n",
      "In-Law Suite with Private Entrance Near H St NE for 4.369447852467022, score: NaN\n",
      "Private Studio w/ Hot tub &  Garden by BART & FWY for 4.48863636973214, score: 91.0\n"
     ]
    }
   ],
   "source": [
    "import pandas as pd\n",
    "airbnb = pd.read_csv('Airbnb_Data.csv')\n",
    "airbnb.fillna(\"NaN\", inplace=True)\n",
    "\n",
    "airbnb_index = client.init_index(\"airbnb\")\n",
    "airbnb_index.save_objects(airbnb.to_dict(orient='records'), {'autoGenerateObjectIDIfNotExist': True})\n",
    "\n",
    "res = airbnb_index.search(\"LA\", {'attributesToRetrieve': ['name', 'review_scores_rating', 'log_price']})['hits']\n",
    "res.sort(key=lambda x: x['log_price'])\n",
    "for i in res[:5]:\n",
    "    print(f\"{i['name']} for {i['log_price']}, score: {i['review_scores_rating']}\")"
   ]
  }
 ],
 "metadata": {
  "kernelspec": {
   "display_name": "base",
   "language": "python",
   "name": "python3"
  },
  "language_info": {
   "codemirror_mode": {
    "name": "ipython",
    "version": 3
   },
   "file_extension": ".py",
   "mimetype": "text/x-python",
   "name": "python",
   "nbconvert_exporter": "python",
   "pygments_lexer": "ipython3",
   "version": "3.11.5"
  }
 },
 "nbformat": 4,
 "nbformat_minor": 2
}
