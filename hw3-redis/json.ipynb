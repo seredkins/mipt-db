{
 "cells": [
  {
   "cell_type": "code",
   "execution_count": 51,
   "metadata": {},
   "outputs": [],
   "source": [
    "import json\n",
    "import redis\n",
    "import time"
   ]
  },
  {
   "cell_type": "code",
   "execution_count": 71,
   "metadata": {},
   "outputs": [],
   "source": [
    "data = json.load(open('large-file.json'))\n",
    "r = redis.StrictRedis(host='localhost', port=6379, db=0)"
   ]
  },
  {
   "cell_type": "markdown",
   "metadata": {},
   "source": [
    "## Сохранение json файла в базу данных в виде строки"
   ]
  },
  {
   "cell_type": "code",
   "execution_count": 104,
   "metadata": {},
   "outputs": [],
   "source": [
    "def flatten_dict(d, parent_key='', sep=':'):\n",
    "    items = []\n",
    "    for k, v in d.items():\n",
    "        new_key = f\"{parent_key}{sep}{k}\" if parent_key else k\n",
    "        if isinstance(v, dict):\n",
    "            items.extend(flatten_dict(v, new_key, sep=sep).items())\n",
    "        else:\n",
    "            items.append((new_key, v))\n",
    "    return dict(items)"
   ]
  },
  {
   "cell_type": "code",
   "execution_count": 105,
   "metadata": {},
   "outputs": [],
   "source": [
    "def set_elem2redis(elem):\n",
    "    fd = flatten_dict(elem)\n",
    "    k = fd['id']\n",
    "\n",
    "    for key, value in fd.items():\n",
    "        if key == 'id':\n",
    "            continue\n",
    "        r.set(f\"{k}:{key}\", f\"{value}\")"
   ]
  },
  {
   "cell_type": "code",
   "execution_count": 106,
   "metadata": {},
   "outputs": [
    {
     "name": "stdout",
     "output_type": "stream",
     "text": [
      "Time: 54.35731482505798\n"
     ]
    }
   ],
   "source": [
    "start = time.time()\n",
    "for elem in data:\n",
    "    set_elem2redis(elem)\n",
    "end = time.time()\n",
    "print(f\"Time: {end - start}\")"
   ]
  },
  {
   "cell_type": "markdown",
   "metadata": {},
   "source": [
    "## Сохранение json файла в базу данных в виде hset"
   ]
  },
  {
   "cell_type": "code",
   "execution_count": 100,
   "metadata": {},
   "outputs": [],
   "source": [
    "def set_elem2redis_hset(elem):\n",
    "    fd = flatten_dict(elem)\n",
    "    k = fd.pop('id')\n",
    "    for key, value in fd.items():\n",
    "        fd[key] = str(value)\n",
    "    r.hset(f\"{k}\", mapping=fd)"
   ]
  },
  {
   "cell_type": "code",
   "execution_count": 101,
   "metadata": {},
   "outputs": [
    {
     "name": "stdout",
     "output_type": "stream",
     "text": [
      "Time: 3.844680070877075\n"
     ]
    }
   ],
   "source": [
    "start = time.time()\n",
    "for elem in data:\n",
    "    set_elem2redis_hset(elem)\n",
    "end = time.time()\n",
    "print(f\"Time: {end - start}\")"
   ]
  },
  {
   "cell_type": "markdown",
   "metadata": {},
   "source": [
    "## Сохранение json файла в базу данных в виде zset"
   ]
  },
  {
   "cell_type": "code",
   "execution_count": 98,
   "metadata": {},
   "outputs": [
    {
     "name": "stdout",
     "output_type": "stream",
     "text": [
      "Time: 1.419557809829712\n"
     ]
    }
   ],
   "source": [
    "start = time.time()\n",
    "ids_sorted = \"ids_sorted\"\n",
    "for elem in data:\n",
    "    r.zadd(ids_sorted, {elem['actor']['login'] : elem['actor']['id']})\n",
    "end = time.time()\n",
    "print(f\"Time: {end - start}\")"
   ]
  },
  {
   "cell_type": "markdown",
   "metadata": {},
   "source": [
    "## Сохранение json файла в базу данных в виде list"
   ]
  },
  {
   "cell_type": "code",
   "execution_count": 99,
   "metadata": {},
   "outputs": [
    {
     "name": "stdout",
     "output_type": "stream",
     "text": [
      "Time: 1.7995710372924805\n"
     ]
    }
   ],
   "source": [
    "start = time.time()\n",
    "ids_list = \"ids\"\n",
    "for elem in data:\n",
    "    r.lpush(ids_list, elem['id'])\n",
    "end = time.time()\n",
    "print(f\"Time: {end - start}\")"
   ]
  },
  {
   "cell_type": "markdown",
   "metadata": {},
   "source": [
    "## Тестирование времени чтения"
   ]
  },
  {
   "cell_type": "code",
   "execution_count": 107,
   "metadata": {},
   "outputs": [
    {
     "name": "stdout",
     "output_type": "stream",
     "text": [
      "Time: 1.6342508792877197\n"
     ]
    }
   ],
   "source": [
    "start = time.time()\n",
    "for elem in data:\n",
    "    r.hget(elem['id'], 'actor:id')\n",
    "end = time.time()\n",
    "print(f\"Time: {end - start}\")"
   ]
  },
  {
   "cell_type": "code",
   "execution_count": 108,
   "metadata": {},
   "outputs": [
    {
     "name": "stdout",
     "output_type": "stream",
     "text": [
      "Time: 1.423008918762207\n"
     ]
    }
   ],
   "source": [
    "start = time.time()\n",
    "for elem in data:\n",
    "    r.get(f\"{elem['id']}:actor:id\")\n",
    "end = time.time()\n",
    "print(f\"Time: {end - start}\")"
   ]
  },
  {
   "cell_type": "code",
   "execution_count": 112,
   "metadata": {},
   "outputs": [
    {
     "name": "stdout",
     "output_type": "stream",
     "text": [
      "Time: 1.3145198822021484\n"
     ]
    }
   ],
   "source": [
    "start = time.time()\n",
    "for elem in data:\n",
    "    r.zscore(ids_sorted, elem['actor']['login'])\n",
    "end = time.time()\n",
    "print(f\"Time: {end - start}\")"
   ]
  },
  {
   "cell_type": "code",
   "execution_count": 110,
   "metadata": {},
   "outputs": [
    {
     "name": "stdout",
     "output_type": "stream",
     "text": [
      "Time: 1.4005730152130127\n"
     ]
    }
   ],
   "source": [
    "start = time.time()\n",
    "for elem in data:\n",
    "    r.lpop(ids_list)\n",
    "end = time.time()\n",
    "print(f\"Time: {end - start}\")"
   ]
  },
  {
   "cell_type": "code",
   "execution_count": null,
   "metadata": {},
   "outputs": [],
   "source": []
  }
 ],
 "metadata": {
  "kernelspec": {
   "display_name": "base",
   "language": "python",
   "name": "python3"
  },
  "language_info": {
   "codemirror_mode": {
    "name": "ipython",
    "version": 3
   },
   "file_extension": ".py",
   "mimetype": "text/x-python",
   "name": "python",
   "nbconvert_exporter": "python",
   "pygments_lexer": "ipython3",
   "version": "3.11.5"
  }
 },
 "nbformat": 4,
 "nbformat_minor": 2
}
